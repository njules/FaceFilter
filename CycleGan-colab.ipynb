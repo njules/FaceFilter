{
  "cells": [
    {
      "cell_type": "code",
      "execution_count": null,
      "metadata": {
        "colab": {
          "base_uri": "https://localhost:8080/"
        },
        "id": "rArDbwLSVAYF",
        "outputId": "d28498c7-e5f7-489d-f949-ecc15065316c"
      },
      "outputs": [],
      "source": [
        "!git clone https://github.com/jiechen2358/FaceAging-by-cycleGAN.git\n",
        "!git clone https://github.com/njules/FaceFilter.git\n",
        "!cp FaceFilter/celeba_dataset.py FaceAging-by-cycleGAN/data/celeba_dataset.py"
      ]
    },
    {
      "cell_type": "code",
      "execution_count": null,
      "metadata": {
        "colab": {
          "base_uri": "https://localhost:8080/"
        },
        "id": "sCu02h7fmt3h",
        "outputId": "e4db3f33-0c24-45f5-b46c-024c07b21e88"
      },
      "outputs": [],
      "source": [
        "!pip install --quiet -r FaceAging-by-cycleGAN/requirements.txt\n",
        "!pip install --quiet scipy==1.1.0"
      ]
    },
    {
      "cell_type": "code",
      "execution_count": null,
      "metadata": {
        "colab": {
          "base_uri": "https://localhost:8080/"
        },
        "id": "6GxNxSZDf_m1",
        "outputId": "5dd38c3a-1978-4d2e-972c-6d4acabfaa28"
      },
      "outputs": [],
      "source": [
        "from google.colab import drive\n",
        "drive.mount('/content/drive')"
      ]
    },
    {
      "cell_type": "code",
      "execution_count": null,
      "metadata": {
        "colab": {
          "base_uri": "https://localhost:8080/"
        },
        "id": "BFnk8qpSexlb",
        "outputId": "1612fb28-cee7-4123-8889-5d413b0fb4c4"
      },
      "outputs": [],
      "source": [
        "!cp /content/drive/MyDrive/CelebA/Img/img_align_celeba.zip .\n",
        "!mkdir celeba\n",
        "!unzip -qq img_align_celeba.zip\n",
        "!mv img_align_celeba celeba/\n",
        "!cp /content/drive/MyDrive/CelebA/Anno/*.txt ./celeba\n",
        "!cp /content/drive/MyDrive/CelebA/Eval/list_eval_partition.txt ./celeba"
      ]
    },
    {
      "cell_type": "code",
      "execution_count": null,
      "metadata": {
        "colab": {
          "base_uri": "https://localhost:8080/"
        },
        "id": "RGhfn5-1lHjc",
        "outputId": "1215f65d-79f5-4591-82f1-53f6ff3fdb02"
      },
      "outputs": [],
      "source": [
        "!python FaceAging-by-cycleGAN/test.py --checkpoints_dir FaceAging-by-cycleGAN/trained_model  --dataroot . --name 1_wiki_base_mix --model cycle_gan --dataset_mode celeba --num_test 1"
      ]
    },
    {
      "cell_type": "code",
      "execution_count": null,
      "metadata": {
        "colab": {
          "base_uri": "https://localhost:8080/"
        },
        "id": "a7v1qPLOma5r",
        "outputId": "ded73457-161b-4afa-cfc2-d45ba54ec1c8"
      },
      "outputs": [],
      "source": [
        "!pip install scipy"
      ]
    }
  ],
  "metadata": {
    "accelerator": "GPU",
    "colab": {
      "collapsed_sections": [],
      "name": "Untitled12.ipynb",
      "provenance": []
    },
    "kernelspec": {
      "display_name": "Python 3",
      "name": "python3"
    },
    "language_info": {
      "name": "python"
    }
  },
  "nbformat": 4,
  "nbformat_minor": 0
}
