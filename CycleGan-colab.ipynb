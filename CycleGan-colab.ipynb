{
  "cells": [
    {
      "cell_type": "code",
      "execution_count": null,
      "metadata": {
        "colab": {
          "base_uri": "https://localhost:8080/"
        },
        "id": "rArDbwLSVAYF",
        "outputId": "d28498c7-e5f7-489d-f949-ecc15065316c"
      },
      "outputs": [],
      "source": [
        "!git clone https://github.com/jiechen2358/FaceAging-by-cycleGAN.git\n",
        "!git clone https://github.com/njules/FaceFilter.git"
      ]
    },
    {
      "cell_type": "code",
      "execution_count": null,
      "metadata": {
        "colab": {
          "base_uri": "https://localhost:8080/"
        },
        "id": "sCu02h7fmt3h",
        "outputId": "e4db3f33-0c24-45f5-b46c-024c07b21e88"
      },
      "outputs": [],
      "source": [
        "!pip install --quiet -r FaceAging-by-cycleGAN/requirements.txt\n",
        "!pip install --quiet scipy==1.1.0"
      ]
    },
    {
      "cell_type": "code",
      "execution_count": null,
      "metadata": {
        "colab": {
          "base_uri": "https://localhost:8080/"
        },
        "id": "6GxNxSZDf_m1",
        "outputId": "5dd38c3a-1978-4d2e-972c-6d4acabfaa28"
      },
      "outputs": [],
      "source": [
        "from google.colab import drive\n",
        "drive.mount('/content/drive')"
      ]
    },
    {
      "cell_type": "code",
      "execution_count": null,
      "metadata": {
        "colab": {
          "base_uri": "https://localhost:8080/"
        },
        "id": "BFnk8qpSexlb",
        "outputId": "1612fb28-cee7-4123-8889-5d413b0fb4c4"
      },
      "outputs": [],
      "source": [
        "!cp /content/drive/MyDrive/CelebA/Img/img_align_celeba.zip .\n",
        "!mkdir celeba\n",
        "!unzip -qq img_align_celeba.zip\n",
        "!mv img_align_celeba celeba/\n",
        "!cp /content/drive/MyDrive/CelebA/Anno/*.txt ./celeba\n",
        "!cp /content/drive/MyDrive/CelebA/Eval/list_eval_partition.txt ./celeba\n",
        "\n",
        "!python split-celeba.py\n",
        "!python sample-celeba.py"
      ]
    },
    {
      "cell_type": "code",
      "execution_count": 2,
      "metadata": {
        "colab": {
          "base_uri": "https://localhost:8080/"
        },
        "id": "RGhfn5-1lHjc",
        "outputId": "1215f65d-79f5-4591-82f1-53f6ff3fdb02"
      },
      "outputs": [
        {
          "name": "stdout",
          "output_type": "stream",
          "text": [
            "Traceback (most recent call last):\n",
            "  File \"/home/simo/dev/polito/mlapp/project/FaceFilter/FaceAging-by-cycleGAN/test.py\", line 5, in <module>\n",
            "    from util.visualizer import save_images\n",
            "  File \"/home/simo/dev/polito/mlapp/project/FaceFilter/FaceAging-by-cycleGAN/util/visualizer.py\", line 7, in <module>\n",
            "    from . import html\n",
            "  File \"/home/simo/dev/polito/mlapp/project/FaceFilter/FaceAging-by-cycleGAN/util/html.py\", line 1, in <module>\n",
            "    import dominate\n",
            "ModuleNotFoundError: No module named 'dominate'\n"
          ]
        }
      ],
      "source": [
        "!python FaceAging-by-cycleGAN/test.py \\\n",
        "    --checkpoints_dir FaceAging-by-cycleGAN/checkpoints/9_wiki_fine_tune_male/01_epochs  \\\n",
        "    --dataroot ../celeba \\\n",
        "    --name 9_wiki_fine_tune_male \\\n",
        "    --model cycle_gan \\\n",
        "    --num_test 1 \\\n",
        "    --gpu_id -1\n",
        "    \n",
        "    --dataroot ../celeba \\\n",
        "    --name 9_wiki_fine_tune_male \\\n",
        "    --model cycle_gan \n",
        "\n",
        "    --use_pretrained_model \\\n",
        "    --pretrained_model_name end \\\n",
        "    --pretrained_model_subname G_A,G_B,D_A,D_B \\\n",
        "    --pretrained_model_epoch end \n",
        "    \n",
        "python FaceAging-by-cycleGAN/test.py \\\n",
        "    --checkpoints_dir FaceAging-by-cycleGAN/checkpoints/9_wiki_fine_tune_male/1_epoch_balanced \\\n",
        "    --dataroot ../celeba \\\n",
        "    --name 9_wiki_fine_tune_male \\\n",
        "    --model cycle_gan \\\n",
        "    --num_test 1 \\\n",
        "    --gpu_id -1 \\\n",
        "    --epoch end \n",
        "    \n",
        "python FaceAging-by-cycleGAN/test.py \\\n",
        "    --checkpoints_dir FaceAging-by-cycleGAN/checkpoints/9_wiki_fine_tune_male \\\n",
        "    --dataroot ./celeba \\\n",
        "    --model cycle_gan \\\n",
        "    --num_test 1 \\\n",
        "    --gpu_id -1  \\\n",
        "    --epoch end \\\n",
        "    --name 1_epochs_BALANCED\n"
      ]
    },
    {
      "cell_type": "code",
      "execution_count": 1,
      "metadata": {
        "colab": {
          "base_uri": "https://localhost:8080/"
        },
        "id": "a7v1qPLOma5r",
        "outputId": "ded73457-161b-4afa-cfc2-d45ba54ec1c8"
      },
      "outputs": [
        {
          "name": "stdout",
          "output_type": "stream",
          "text": [
            "python: can't open file 'train.py': [Errno 2] No such file or directory\n"
          ]
        }
      ],
      "source": [
        "!python train.py --dataroot ../celeba \\\n",
        "    --name 9_wiki_fine_tune_male \\\n",
        "    --model cycle_gan --gpu_ids -1 \\\n",
        "    --display_freq 5 --print_freq 5 \\\n",
        "    --use_pretrained_model \\\n",
        "    --pretrained_model_name 9_wiki_fine_tune_male \\\n",
        "    --pretrained_model_subname G_A,G_B,D_A,D_B \\\n",
        "    --pretrained_model_epoch 200"
      ]
    },
    {
      "cell_type": "code",
      "execution_count": null,
      "metadata": {},
      "outputs": [],
      "source": [
        "python train.py --dataroot ../celeba \\\n",
        "    --name 9_wiki_fine_tune_male \\\n",
        "    --model cycle_gan --gpu_ids -1 \\\n",
        "    --display_freq 5 --print_freq 5 \\\n",
        "    --use_pretrained_model \\\n",
        "    --pretrained_model_name 9_wiki_fine_tune_male \\\n",
        "    --pretrained_model_subname G_A,G_B,D_A,D_B \\\n",
        "    --pretrained_model_epoch 200 \\\n",
        "    --epoch_count 199 \\\n",
        "    --display_server localhost \\\n",
        "    --batch_size 8 \\\n",
        "    --save_epoch_freq 200"
      ]
    },
    {
      "cell_type": "code",
      "execution_count": 5,
      "metadata": {},
      "outputs": [
        {
          "name": "stdout",
          "output_type": "stream",
          "text": [
            "12 - \n"
          ]
        }
      ],
      "source": [
        "test = 12\n",
        "print(str(test) + \" - \")"
      ]
    },
    {
      "cell_type": "code",
      "execution_count": null,
      "metadata": {},
      "outputs": [],
      "source": []
    }
  ],
  "metadata": {
    "accelerator": "GPU",
    "colab": {
      "collapsed_sections": [],
      "name": "Untitled12.ipynb",
      "provenance": []
    },
    "kernelspec": {
      "display_name": "Python 3.9.7 64-bit",
      "language": "python",
      "name": "python3"
    },
    "language_info": {
      "codemirror_mode": {
        "name": "ipython",
        "version": 3
      },
      "file_extension": ".py",
      "mimetype": "text/x-python",
      "name": "python",
      "nbconvert_exporter": "python",
      "pygments_lexer": "ipython3",
      "version": "3.9.7"
    },
    "vscode": {
      "interpreter": {
        "hash": "aee8b7b246df8f9039afb4144a1f6fd8d2ca17a180786b69acc140d282b71a49"
      }
    }
  },
  "nbformat": 4,
  "nbformat_minor": 0
}
